{
 "cells": [
  {
   "cell_type": "code",
   "execution_count": null,
   "metadata": {},
   "outputs": [],
   "source": [
    "from sklearn.feature_extraction.text import CountVectorizer\n",
    "\n",
    "count_vect = CountVectorizer()\n",
    "X_counts = count_vect.fit_transform(X.text) #learn the vocabulary and return document-term matrix\n",
    "print(X_counts[0:2])\n",
    "\n",
    "# we convert from sparse array to normal array\n",
    "X_counts[0:5, 0:100].toarray()\n",
    "\n",
    "# first twenty features only\n",
    "plot_x = [\"term_\"+str(i) for i in count_vect.get_feature_names_out()[0:20]]\n",
    "plot_x\n",
    "\n",
    "# obtain document index\n",
    "plot_y = [\"doc_\"+ str(i) for i in list(X.index)[0:20]]\n",
    "plot_y\n",
    "\n",
    "plot_z = X_counts[0:20, 0:20].toarray() #X_counts[how many documents, how many terms]\n",
    "plot_z\n",
    "\n",
    "import seaborn as sns\n",
    "\n",
    "df_todraw = pd.DataFrame(plot_z, columns = plot_x, index = plot_y)\n",
    "plt.subplots(figsize=(9, 7))\n",
    "ax = sns.heatmap(df_todraw,\n",
    "                 cmap=\"PuRd\",\n",
    "                 vmin=0, vmax=1, annot=True)\n",
    "\n"
   ]
  },
  {
   "cell_type": "code",
   "execution_count": null,
   "metadata": {},
   "outputs": [],
   "source": [
    "import numpy as np\n",
    "import pandas as pd\n",
    "import plotly.express as px\n",
    "\n",
    "term_frequencies = np.asarray(X_counts.sum(axis=0))[0]\n",
    "\n",
    "data = {\n",
    "    'Term': count_vect.get_feature_names_out()[:300],\n",
    "    'Frequency': term_frequencies[:300]\n",
    "}\n",
    "df = pd.DataFrame(data)\n",
    "\n",
    "fig = px.bar(df, \n",
    "             x='Term', \n",
    "             y='Frequency', \n",
    "             title='Term Frequencies', \n",
    "             labels={'Term': 'Terms', 'Frequency': 'Frequency'},\n",
    "             text='Frequency')\n",
    "\n",
    "fig.update_traces(texttemplate='%{text:.2f}', textposition='outside')\n",
    "fig.update_layout(xaxis_tickangle=-90)\n",
    "\n",
    "fig.show()"
   ]
  },
  {
   "cell_type": "code",
   "execution_count": null,
   "metadata": {},
   "outputs": [],
   "source": [
    "# Answer here\n",
    "df_sorted = df.sort_values(by='Frequency', ascending=False)\n",
    "\n",
    "#Select top 50 terms\n",
    "df_top50 = df_sorted.head(50)\n",
    "\n",
    "#Plot the top 50 terms\n",
    "fig = px.bar(df_top50, \n",
    "             x='Term', \n",
    "             y='Frequency', \n",
    "             title='Top 50 Term Frequencies', \n",
    "             labels={'Term': 'Terms', 'Frequency': 'Frequency'},\n",
    "             text='Frequency')\n",
    "\n",
    "fig.update_traces(texttemplate='%{text:.2f}', textposition='outside')\n",
    "fig.update_layout(xaxis_tickangle=-90)\n",
    "\n",
    "fig.show()\n"
   ]
  }
 ],
 "metadata": {
  "language_info": {
   "name": "python"
  }
 },
 "nbformat": 4,
 "nbformat_minor": 2
}
